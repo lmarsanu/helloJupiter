{
 "cells": [
  {
   "cell_type": "markdown",
   "metadata": {},
   "source": [
    "# Quadratic equation"
   ]
  },
  {
   "cell_type": "markdown",
   "metadata": {},
   "source": [
    "In algebra, a quadratic equation (from the Latin quadratus for \"square\") is any equation that can be rearranged in standard form as\n",
    "\n",
    "$ax^{2} + bx + c = 0$ \n",
    "\n",
    "where x represents an unknown, and a, b, and c represent known numbers, where a ≠ 0. If a = 0, then the equation is linear, not quadratic, as there is no $ax^2$ term. The numbers a, b, and c are the coefficients of the equation and may be distinguished by calling them, respectively, the quadratic coefficient, the linear coefficient and the constant or free term.[1]\n",
    "\n",
    "The values of x that satisfy the equation are called solutions of the equation, and roots or zeros of the expression on its left-hand side. A quadratic equation has at most two solutions. If there is no real solution, there are two complex solutions. If there is only one solution, one says that it is a double root. A quadratic equation always has two roots, if complex roots are included and a double root is counted for two. \n",
    "\n",
    "A quadratic equation can be factored into an equivalent equation\n",
    "\n",
    "$ax^{2}+bx+c=a(x-r)(x-s)=0$  where r and s are the solutions for x. \n"
   ]
  },
  {
   "cell_type": "markdown",
   "metadata": {},
   "source": [
    "## Solving\n",
    "A quadratic equation with real or complex coefficients has two solutions, called roots. \n",
    "These two solutions may or may not be distinct, and they may or may not be real.\n",
    "\n",
    "There are several solutions, shown here is  [Completing the square](https://en.wikipedia.org/wiki/Completing_the_square)\n",
    "\n",
    "\n",
    "The formula in elementary algebra for computing the square of a binomial is:\n",
    "\n",
    "$(a+b)^{2}\\,=\\,a^{2}+2ab+b^{2}$\n",
    "\n",
    "For example:\n",
    "\n",
    "$(x+3)^{2}\\,=\\,x^{2}+6x+9$\n",
    "$(b=3)$\n",
    "\n",
    "$(x-5)^{2}\\,=\\,x^{2}-10x+25$\n",
    "$(b=-5)$\n",
    "\n",
    "\n",
    "In any perfect square, the coefficient of x is twice the number p, and the constant term is equal to $p^2$.\n",
    "\n",
    "Completing the square may be used to solve any quadratic equation. For example:\n",
    "\n",
    "$x^{2}+6x+5=0$\n",
    "\n",
    "The first step is to complete the square:\n",
    "\n",
    "If  $(a+b)^{2}\\,=\\,a^{2}+2ab+b^{2}$ \n",
    "\n",
    "$(a+3)^{2} = a^{2}+6a+9 = a^{2}+6a+5+4=$ \n",
    "so we can write\n",
    "\n",
    "$(x+3)^{2} = 4$ \n",
    "\n",
    "Next we solve for the squared term:\n",
    "$(x+3)^{2}=4$\n",
    "\n",
    "Then either\n",
    "$x+3=-2$ or $x+3=2$\n",
    "\n",
    "and therefore\n",
    "$x=-5$ or $x=-1$"
   ]
  },
  {
   "cell_type": "code",
   "execution_count": 6,
   "metadata": {},
   "outputs": [
    {
     "name": "stdout",
     "output_type": "stream",
     "text": [
      "The solution are (-5+0j) and (-1+0j)\n"
     ]
    }
   ],
   "source": [
    "# Solve the quadratic equation ax**2 + bx + c = 0\n",
    "\n",
    "# import complex math module\n",
    "import cmath\n",
    "\n",
    "a = 1\n",
    "b = 6\n",
    "c = 5\n",
    "\n",
    "# calculate the discriminant\n",
    "d = (b**2) - (4*a*c)\n",
    "\n",
    "# find two solutions\n",
    "sol1 = (-b-cmath.sqrt(d))/(2*a)\n",
    "sol2 = (-b+cmath.sqrt(d))/(2*a)\n",
    "\n",
    "print('The solution are {0} and {1}'.format(sol1,sol2))"
   ]
  }
 ],
 "metadata": {
  "kernelspec": {
   "display_name": "Python 3",
   "language": "python",
   "name": "python3"
  },
  "language_info": {
   "codemirror_mode": {
    "name": "ipython",
    "version": 3
   },
   "file_extension": ".py",
   "mimetype": "text/x-python",
   "name": "python",
   "nbconvert_exporter": "python",
   "pygments_lexer": "ipython3",
   "version": "3.8.5"
  }
 },
 "nbformat": 4,
 "nbformat_minor": 4
}
